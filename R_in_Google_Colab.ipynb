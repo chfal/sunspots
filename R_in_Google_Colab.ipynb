{
  "nbformat": 4,
  "nbformat_minor": 0,
  "metadata": {
    "colab": {
      "name": "R_in_Google_Colab.ipynb",
      "provenance": [],
      "authorship_tag": "ABX9TyNnh4wbIEFxaByDYhYwmIjf",
      "include_colab_link": true
    },
    "kernelspec": {
      "name": "ir",
      "display_name": "R"
    }
  },
  "cells": [
    {
      "cell_type": "markdown",
      "metadata": {
        "id": "view-in-github",
        "colab_type": "text"
      },
      "source": [
        "<a href=\"https://colab.research.google.com/github/chfal/sunspots/blob/main/R_in_Google_Colab.ipynb\" target=\"_parent\"><img src=\"https://colab.research.google.com/assets/colab-badge.svg\" alt=\"Open In Colab\"/></a>"
      ]
    },
    {
      "cell_type": "code",
      "metadata": {
        "colab": {
          "base_uri": "https://localhost:8080/",
          "height": 1000
        },
        "id": "BHrInzndJe78",
        "outputId": "db08dcf1-ffa2-4d3e-92da-06b141b1aed5"
      },
      "source": [
        "library(tidyverse)\r\n",
        "library(lubridate)\r\n",
        "# load JHU covid19 data set with tidyverse read_csv\r\n",
        "gtb = read_csv('https://raw.githubusercontent.com/CSSEGISandData/COVID-19/master/csse_covid_19_data/csse_covid_19_time_series/time_series_covid19_confirmed_global.csv')\r\n",
        "\r\n",
        "head(gtb)\r\n",
        "\r\n",
        "g_cumulative = data.frame( apply( gtb[,5:length(gtb[1,])], 2, sum ))\r\n",
        "str(g_cumulative)\r\n",
        "head(g_cumulative)\r\n",
        "\r\n",
        "g_cummulative2= g_cumulative\r\n",
        "g_cummulative2$Dates =  mdy(row.names(g_cummulative2))\r\n",
        "names( g_cummulative2 ) = c(\"Daily_cases\", \"Dates\")\r\n",
        "head( g_cummulative2)"
      ],
      "execution_count": 1,
      "outputs": [
        {
          "output_type": "stream",
          "text": [
            "── \u001b[1mAttaching packages\u001b[22m ─────────────────────────────────────── tidyverse 1.3.0 ──\n",
            "\n",
            "\u001b[32m✔\u001b[39m \u001b[34mggplot2\u001b[39m 3.3.2     \u001b[32m✔\u001b[39m \u001b[34mpurrr  \u001b[39m 0.3.4\n",
            "\u001b[32m✔\u001b[39m \u001b[34mtibble \u001b[39m 3.0.4     \u001b[32m✔\u001b[39m \u001b[34mdplyr  \u001b[39m 1.0.2\n",
            "\u001b[32m✔\u001b[39m \u001b[34mtidyr  \u001b[39m 1.1.2     \u001b[32m✔\u001b[39m \u001b[34mstringr\u001b[39m 1.4.0\n",
            "\u001b[32m✔\u001b[39m \u001b[34mreadr  \u001b[39m 1.4.0     \u001b[32m✔\u001b[39m \u001b[34mforcats\u001b[39m 0.5.0\n",
            "\n",
            "── \u001b[1mConflicts\u001b[22m ────────────────────────────────────────── tidyverse_conflicts() ──\n",
            "\u001b[31m✖\u001b[39m \u001b[34mdplyr\u001b[39m::\u001b[32mfilter()\u001b[39m masks \u001b[34mstats\u001b[39m::filter()\n",
            "\u001b[31m✖\u001b[39m \u001b[34mdplyr\u001b[39m::\u001b[32mlag()\u001b[39m    masks \u001b[34mstats\u001b[39m::lag()\n",
            "\n",
            "\n",
            "Attaching package: ‘lubridate’\n",
            "\n",
            "\n",
            "The following objects are masked from ‘package:base’:\n",
            "\n",
            "    date, intersect, setdiff, union\n",
            "\n",
            "\n",
            "\n",
            "\u001b[36m──\u001b[39m \u001b[1m\u001b[1mColumn specification\u001b[1m\u001b[22m \u001b[36m────────────────────────────────────────────────────────\u001b[39m\n",
            "cols(\n",
            "  .default = col_double(),\n",
            "  `Province/State` = \u001b[31mcol_character()\u001b[39m,\n",
            "  `Country/Region` = \u001b[31mcol_character()\u001b[39m\n",
            ")\n",
            "\u001b[36mℹ\u001b[39m Use \u001b[30m\u001b[47m\u001b[30m\u001b[47m`spec()`\u001b[47m\u001b[30m\u001b[49m\u001b[39m for the full column specifications.\n",
            "\n",
            "\n"
          ],
          "name": "stderr"
        },
        {
          "output_type": "display_data",
          "data": {
            "text/plain": [
              "  Province/State Country/Region      Lat       Long      1/22/20 1/23/20\n",
              "1 NA             Afghanistan          33.93911  67.70995 0       0      \n",
              "2 NA             Albania              41.15330  20.16830 0       0      \n",
              "3 NA             Algeria              28.03390   1.65960 0       0      \n",
              "4 NA             Andorra              42.50630   1.52180 0       0      \n",
              "5 NA             Angola              -11.20270  17.87390 0       0      \n",
              "6 NA             Antigua and Barbuda  17.06080 -61.79640 0       0      \n",
              "  1/24/20 1/25/20 1/26/20 1/27/20 ⋯ 12/10/20 12/11/20 12/12/20 12/13/20\n",
              "1 0       0       0       0       ⋯ 48053    48116    48229    48527   \n",
              "2 0       0       0       0       ⋯ 46061    46863    47742    48530   \n",
              "3 0       0       0       0       ⋯ 90579    91121    91638    92102   \n",
              "4 0       0       0       0       ⋯  7190     7236     7288     7338   \n",
              "5 0       0       0       0       ⋯ 15925    16061    16161    16188   \n",
              "6 0       0       0       0       ⋯   146      147      148      148   \n",
              "  12/14/20 12/15/20 12/16/20 12/17/20 12/18/20 12/19/20\n",
              "1 48718    48952    49161    49378    49621    49681   \n",
              "2 49191    50000    50637    51424    52004    52542   \n",
              "3 92597    93065    93507    93933    94371    94781   \n",
              "4  7382     7382     7446     7466     7519     7560   \n",
              "5 16277    16362    16407    16484    16562    16626   \n",
              "6   148      148      151      151      152      152   "
            ],
            "text/latex": "A tibble: 6 × 337\n\\begin{tabular}{lllllllllllllllllllll}\n Province/State & Country/Region & Lat & Long & 1/22/20 & 1/23/20 & 1/24/20 & 1/25/20 & 1/26/20 & 1/27/20 & ⋯ & 12/10/20 & 12/11/20 & 12/12/20 & 12/13/20 & 12/14/20 & 12/15/20 & 12/16/20 & 12/17/20 & 12/18/20 & 12/19/20\\\\\n <chr> & <chr> & <dbl> & <dbl> & <dbl> & <dbl> & <dbl> & <dbl> & <dbl> & <dbl> & ⋯ & <dbl> & <dbl> & <dbl> & <dbl> & <dbl> & <dbl> & <dbl> & <dbl> & <dbl> & <dbl>\\\\\n\\hline\n\t NA & Afghanistan         &  33.93911 &  67.70995 & 0 & 0 & 0 & 0 & 0 & 0 & ⋯ & 48053 & 48116 & 48229 & 48527 & 48718 & 48952 & 49161 & 49378 & 49621 & 49681\\\\\n\t NA & Albania             &  41.15330 &  20.16830 & 0 & 0 & 0 & 0 & 0 & 0 & ⋯ & 46061 & 46863 & 47742 & 48530 & 49191 & 50000 & 50637 & 51424 & 52004 & 52542\\\\\n\t NA & Algeria             &  28.03390 &   1.65960 & 0 & 0 & 0 & 0 & 0 & 0 & ⋯ & 90579 & 91121 & 91638 & 92102 & 92597 & 93065 & 93507 & 93933 & 94371 & 94781\\\\\n\t NA & Andorra             &  42.50630 &   1.52180 & 0 & 0 & 0 & 0 & 0 & 0 & ⋯ &  7190 &  7236 &  7288 &  7338 &  7382 &  7382 &  7446 &  7466 &  7519 &  7560\\\\\n\t NA & Angola              & -11.20270 &  17.87390 & 0 & 0 & 0 & 0 & 0 & 0 & ⋯ & 15925 & 16061 & 16161 & 16188 & 16277 & 16362 & 16407 & 16484 & 16562 & 16626\\\\\n\t NA & Antigua and Barbuda &  17.06080 & -61.79640 & 0 & 0 & 0 & 0 & 0 & 0 & ⋯ &   146 &   147 &   148 &   148 &   148 &   148 &   151 &   151 &   152 &   152\\\\\n\\end{tabular}\n",
            "text/markdown": "\nA tibble: 6 × 337\n\n| Province/State &lt;chr&gt; | Country/Region &lt;chr&gt; | Lat &lt;dbl&gt; | Long &lt;dbl&gt; | 1/22/20 &lt;dbl&gt; | 1/23/20 &lt;dbl&gt; | 1/24/20 &lt;dbl&gt; | 1/25/20 &lt;dbl&gt; | 1/26/20 &lt;dbl&gt; | 1/27/20 &lt;dbl&gt; | ⋯ ⋯ | 12/10/20 &lt;dbl&gt; | 12/11/20 &lt;dbl&gt; | 12/12/20 &lt;dbl&gt; | 12/13/20 &lt;dbl&gt; | 12/14/20 &lt;dbl&gt; | 12/15/20 &lt;dbl&gt; | 12/16/20 &lt;dbl&gt; | 12/17/20 &lt;dbl&gt; | 12/18/20 &lt;dbl&gt; | 12/19/20 &lt;dbl&gt; |\n|---|---|---|---|---|---|---|---|---|---|---|---|---|---|---|---|---|---|---|---|---|\n| NA | Afghanistan         |  33.93911 |  67.70995 | 0 | 0 | 0 | 0 | 0 | 0 | ⋯ | 48053 | 48116 | 48229 | 48527 | 48718 | 48952 | 49161 | 49378 | 49621 | 49681 |\n| NA | Albania             |  41.15330 |  20.16830 | 0 | 0 | 0 | 0 | 0 | 0 | ⋯ | 46061 | 46863 | 47742 | 48530 | 49191 | 50000 | 50637 | 51424 | 52004 | 52542 |\n| NA | Algeria             |  28.03390 |   1.65960 | 0 | 0 | 0 | 0 | 0 | 0 | ⋯ | 90579 | 91121 | 91638 | 92102 | 92597 | 93065 | 93507 | 93933 | 94371 | 94781 |\n| NA | Andorra             |  42.50630 |   1.52180 | 0 | 0 | 0 | 0 | 0 | 0 | ⋯ |  7190 |  7236 |  7288 |  7338 |  7382 |  7382 |  7446 |  7466 |  7519 |  7560 |\n| NA | Angola              | -11.20270 |  17.87390 | 0 | 0 | 0 | 0 | 0 | 0 | ⋯ | 15925 | 16061 | 16161 | 16188 | 16277 | 16362 | 16407 | 16484 | 16562 | 16626 |\n| NA | Antigua and Barbuda |  17.06080 | -61.79640 | 0 | 0 | 0 | 0 | 0 | 0 | ⋯ |   146 |   147 |   148 |   148 |   148 |   148 |   151 |   151 |   152 |   152 |\n\n",
            "text/html": [
              "<table>\n",
              "<caption>A tibble: 6 × 337</caption>\n",
              "<thead>\n",
              "\t<tr><th scope=col>Province/State</th><th scope=col>Country/Region</th><th scope=col>Lat</th><th scope=col>Long</th><th scope=col>1/22/20</th><th scope=col>1/23/20</th><th scope=col>1/24/20</th><th scope=col>1/25/20</th><th scope=col>1/26/20</th><th scope=col>1/27/20</th><th scope=col>⋯</th><th scope=col>12/10/20</th><th scope=col>12/11/20</th><th scope=col>12/12/20</th><th scope=col>12/13/20</th><th scope=col>12/14/20</th><th scope=col>12/15/20</th><th scope=col>12/16/20</th><th scope=col>12/17/20</th><th scope=col>12/18/20</th><th scope=col>12/19/20</th></tr>\n",
              "\t<tr><th scope=col>&lt;chr&gt;</th><th scope=col>&lt;chr&gt;</th><th scope=col>&lt;dbl&gt;</th><th scope=col>&lt;dbl&gt;</th><th scope=col>&lt;dbl&gt;</th><th scope=col>&lt;dbl&gt;</th><th scope=col>&lt;dbl&gt;</th><th scope=col>&lt;dbl&gt;</th><th scope=col>&lt;dbl&gt;</th><th scope=col>&lt;dbl&gt;</th><th scope=col>⋯</th><th scope=col>&lt;dbl&gt;</th><th scope=col>&lt;dbl&gt;</th><th scope=col>&lt;dbl&gt;</th><th scope=col>&lt;dbl&gt;</th><th scope=col>&lt;dbl&gt;</th><th scope=col>&lt;dbl&gt;</th><th scope=col>&lt;dbl&gt;</th><th scope=col>&lt;dbl&gt;</th><th scope=col>&lt;dbl&gt;</th><th scope=col>&lt;dbl&gt;</th></tr>\n",
              "</thead>\n",
              "<tbody>\n",
              "\t<tr><td>NA</td><td>Afghanistan        </td><td> 33.93911</td><td> 67.70995</td><td>0</td><td>0</td><td>0</td><td>0</td><td>0</td><td>0</td><td>⋯</td><td>48053</td><td>48116</td><td>48229</td><td>48527</td><td>48718</td><td>48952</td><td>49161</td><td>49378</td><td>49621</td><td>49681</td></tr>\n",
              "\t<tr><td>NA</td><td>Albania            </td><td> 41.15330</td><td> 20.16830</td><td>0</td><td>0</td><td>0</td><td>0</td><td>0</td><td>0</td><td>⋯</td><td>46061</td><td>46863</td><td>47742</td><td>48530</td><td>49191</td><td>50000</td><td>50637</td><td>51424</td><td>52004</td><td>52542</td></tr>\n",
              "\t<tr><td>NA</td><td>Algeria            </td><td> 28.03390</td><td>  1.65960</td><td>0</td><td>0</td><td>0</td><td>0</td><td>0</td><td>0</td><td>⋯</td><td>90579</td><td>91121</td><td>91638</td><td>92102</td><td>92597</td><td>93065</td><td>93507</td><td>93933</td><td>94371</td><td>94781</td></tr>\n",
              "\t<tr><td>NA</td><td>Andorra            </td><td> 42.50630</td><td>  1.52180</td><td>0</td><td>0</td><td>0</td><td>0</td><td>0</td><td>0</td><td>⋯</td><td> 7190</td><td> 7236</td><td> 7288</td><td> 7338</td><td> 7382</td><td> 7382</td><td> 7446</td><td> 7466</td><td> 7519</td><td> 7560</td></tr>\n",
              "\t<tr><td>NA</td><td>Angola             </td><td>-11.20270</td><td> 17.87390</td><td>0</td><td>0</td><td>0</td><td>0</td><td>0</td><td>0</td><td>⋯</td><td>15925</td><td>16061</td><td>16161</td><td>16188</td><td>16277</td><td>16362</td><td>16407</td><td>16484</td><td>16562</td><td>16626</td></tr>\n",
              "\t<tr><td>NA</td><td>Antigua and Barbuda</td><td> 17.06080</td><td>-61.79640</td><td>0</td><td>0</td><td>0</td><td>0</td><td>0</td><td>0</td><td>⋯</td><td>  146</td><td>  147</td><td>  148</td><td>  148</td><td>  148</td><td>  148</td><td>  151</td><td>  151</td><td>  152</td><td>  152</td></tr>\n",
              "</tbody>\n",
              "</table>\n"
            ]
          },
          "metadata": {
            "tags": []
          }
        },
        {
          "output_type": "stream",
          "text": [
            "'data.frame':\t333 obs. of  1 variable:\n",
            " $ apply.gtb...5.length.gtb.1.......2..sum.: num  555 654 941 1434 2118 ...\n"
          ],
          "name": "stdout"
        },
        {
          "output_type": "display_data",
          "data": {
            "text/plain": [
              "        apply.gtb...5.length.gtb.1.......2..sum.\n",
              "1/22/20  555                                    \n",
              "1/23/20  654                                    \n",
              "1/24/20  941                                    \n",
              "1/25/20 1434                                    \n",
              "1/26/20 2118                                    \n",
              "1/27/20 2927                                    "
            ],
            "text/latex": "A data.frame: 6 × 1\n\\begin{tabular}{r|l}\n  & apply.gtb...5.length.gtb.1.......2..sum.\\\\\n  & <dbl>\\\\\n\\hline\n\t1/22/20 &  555\\\\\n\t1/23/20 &  654\\\\\n\t1/24/20 &  941\\\\\n\t1/25/20 & 1434\\\\\n\t1/26/20 & 2118\\\\\n\t1/27/20 & 2927\\\\\n\\end{tabular}\n",
            "text/markdown": "\nA data.frame: 6 × 1\n\n| <!--/--> | apply.gtb...5.length.gtb.1.......2..sum. &lt;dbl&gt; |\n|---|---|\n| 1/22/20 |  555 |\n| 1/23/20 |  654 |\n| 1/24/20 |  941 |\n| 1/25/20 | 1434 |\n| 1/26/20 | 2118 |\n| 1/27/20 | 2927 |\n\n",
            "text/html": [
              "<table>\n",
              "<caption>A data.frame: 6 × 1</caption>\n",
              "<thead>\n",
              "\t<tr><th></th><th scope=col>apply.gtb...5.length.gtb.1.......2..sum.</th></tr>\n",
              "\t<tr><th></th><th scope=col>&lt;dbl&gt;</th></tr>\n",
              "</thead>\n",
              "<tbody>\n",
              "\t<tr><th scope=row>1/22/20</th><td> 555</td></tr>\n",
              "\t<tr><th scope=row>1/23/20</th><td> 654</td></tr>\n",
              "\t<tr><th scope=row>1/24/20</th><td> 941</td></tr>\n",
              "\t<tr><th scope=row>1/25/20</th><td>1434</td></tr>\n",
              "\t<tr><th scope=row>1/26/20</th><td>2118</td></tr>\n",
              "\t<tr><th scope=row>1/27/20</th><td>2927</td></tr>\n",
              "</tbody>\n",
              "</table>\n"
            ]
          },
          "metadata": {
            "tags": []
          }
        },
        {
          "output_type": "display_data",
          "data": {
            "text/plain": [
              "        Daily_cases Dates     \n",
              "1/22/20  555        2020-01-22\n",
              "1/23/20  654        2020-01-23\n",
              "1/24/20  941        2020-01-24\n",
              "1/25/20 1434        2020-01-25\n",
              "1/26/20 2118        2020-01-26\n",
              "1/27/20 2927        2020-01-27"
            ],
            "text/latex": "A data.frame: 6 × 2\n\\begin{tabular}{r|ll}\n  & Daily\\_cases & Dates\\\\\n  & <dbl> & <date>\\\\\n\\hline\n\t1/22/20 &  555 & 2020-01-22\\\\\n\t1/23/20 &  654 & 2020-01-23\\\\\n\t1/24/20 &  941 & 2020-01-24\\\\\n\t1/25/20 & 1434 & 2020-01-25\\\\\n\t1/26/20 & 2118 & 2020-01-26\\\\\n\t1/27/20 & 2927 & 2020-01-27\\\\\n\\end{tabular}\n",
            "text/markdown": "\nA data.frame: 6 × 2\n\n| <!--/--> | Daily_cases &lt;dbl&gt; | Dates &lt;date&gt; |\n|---|---|---|\n| 1/22/20 |  555 | 2020-01-22 |\n| 1/23/20 |  654 | 2020-01-23 |\n| 1/24/20 |  941 | 2020-01-24 |\n| 1/25/20 | 1434 | 2020-01-25 |\n| 1/26/20 | 2118 | 2020-01-26 |\n| 1/27/20 | 2927 | 2020-01-27 |\n\n",
            "text/html": [
              "<table>\n",
              "<caption>A data.frame: 6 × 2</caption>\n",
              "<thead>\n",
              "\t<tr><th></th><th scope=col>Daily_cases</th><th scope=col>Dates</th></tr>\n",
              "\t<tr><th></th><th scope=col>&lt;dbl&gt;</th><th scope=col>&lt;date&gt;</th></tr>\n",
              "</thead>\n",
              "<tbody>\n",
              "\t<tr><th scope=row>1/22/20</th><td> 555</td><td>2020-01-22</td></tr>\n",
              "\t<tr><th scope=row>1/23/20</th><td> 654</td><td>2020-01-23</td></tr>\n",
              "\t<tr><th scope=row>1/24/20</th><td> 941</td><td>2020-01-24</td></tr>\n",
              "\t<tr><th scope=row>1/25/20</th><td>1434</td><td>2020-01-25</td></tr>\n",
              "\t<tr><th scope=row>1/26/20</th><td>2118</td><td>2020-01-26</td></tr>\n",
              "\t<tr><th scope=row>1/27/20</th><td>2927</td><td>2020-01-27</td></tr>\n",
              "</tbody>\n",
              "</table>\n"
            ]
          },
          "metadata": {
            "tags": []
          }
        }
      ]
    },
    {
      "cell_type": "code",
      "metadata": {
        "colab": {
          "base_uri": "https://localhost:8080/",
          "height": 552
        },
        "id": "3CyeiuPKH9Nz",
        "outputId": "3e6e19aa-3694-44ca-e4f3-b21f63f9a838"
      },
      "source": [
        "library(tidyverse)\r\n",
        "\r\n",
        "sunspots = read.csv(url(\"https://raw.githubusercontent.com/chfal/sunspots/main/EISN_current.csv\"), header=F)\r\n",
        "sunspots$date <- paste0(sunspots$\"V1\",\"/\",sunspots$\"V2\", \"/\", sunspots$\"V3\")\r\n",
        "head(sunspots)\r\n",
        "sunspots <- sunspots %>% mutate(date, as.Date(sunspots$date)) %>%\r\n",
        "rename(\"Dates\"=\"as.Date(sunspots$date)\") %>%\r\n",
        "rename(\"Sunspots\" = \"V5\")\r\n",
        "\r\n",
        "head(sunspots)\r\n",
        "\r\n",
        "head(g_cummulative2)"
      ],
      "execution_count": null,
      "outputs": [
        {
          "output_type": "display_data",
          "data": {
            "text/plain": [
              "  V1   V2 V3 V4       V5 V6  V7 V8 V9 date     \n",
              "1 2020 12 1  2020.917 46 5.8 20 25 NA 2020/12/1\n",
              "2 2020 12 2  2020.919 43 5.4 17 22 NA 2020/12/2\n",
              "3 2020 12 3  2020.922 39 2.8 18 22 NA 2020/12/3\n",
              "4 2020 12 4  2020.925 36 3.7 23 28 NA 2020/12/4\n",
              "5 2020 12 5  2020.928 33 5.1 29 37 NA 2020/12/5\n",
              "6 2020 12 6  2020.930 23 1.3 16 24 NA 2020/12/6"
            ],
            "text/latex": "A data.frame: 6 × 10\n\\begin{tabular}{r|llllllllll}\n  & V1 & V2 & V3 & V4 & V5 & V6 & V7 & V8 & V9 & date\\\\\n  & <int> & <int> & <int> & <dbl> & <int> & <dbl> & <int> & <int> & <lgl> & <chr>\\\\\n\\hline\n\t1 & 2020 & 12 & 1 & 2020.917 & 46 & 5.8 & 20 & 25 & NA & 2020/12/1\\\\\n\t2 & 2020 & 12 & 2 & 2020.919 & 43 & 5.4 & 17 & 22 & NA & 2020/12/2\\\\\n\t3 & 2020 & 12 & 3 & 2020.922 & 39 & 2.8 & 18 & 22 & NA & 2020/12/3\\\\\n\t4 & 2020 & 12 & 4 & 2020.925 & 36 & 3.7 & 23 & 28 & NA & 2020/12/4\\\\\n\t5 & 2020 & 12 & 5 & 2020.928 & 33 & 5.1 & 29 & 37 & NA & 2020/12/5\\\\\n\t6 & 2020 & 12 & 6 & 2020.930 & 23 & 1.3 & 16 & 24 & NA & 2020/12/6\\\\\n\\end{tabular}\n",
            "text/markdown": "\nA data.frame: 6 × 10\n\n| <!--/--> | V1 &lt;int&gt; | V2 &lt;int&gt; | V3 &lt;int&gt; | V4 &lt;dbl&gt; | V5 &lt;int&gt; | V6 &lt;dbl&gt; | V7 &lt;int&gt; | V8 &lt;int&gt; | V9 &lt;lgl&gt; | date &lt;chr&gt; |\n|---|---|---|---|---|---|---|---|---|---|---|\n| 1 | 2020 | 12 | 1 | 2020.917 | 46 | 5.8 | 20 | 25 | NA | 2020/12/1 |\n| 2 | 2020 | 12 | 2 | 2020.919 | 43 | 5.4 | 17 | 22 | NA | 2020/12/2 |\n| 3 | 2020 | 12 | 3 | 2020.922 | 39 | 2.8 | 18 | 22 | NA | 2020/12/3 |\n| 4 | 2020 | 12 | 4 | 2020.925 | 36 | 3.7 | 23 | 28 | NA | 2020/12/4 |\n| 5 | 2020 | 12 | 5 | 2020.928 | 33 | 5.1 | 29 | 37 | NA | 2020/12/5 |\n| 6 | 2020 | 12 | 6 | 2020.930 | 23 | 1.3 | 16 | 24 | NA | 2020/12/6 |\n\n",
            "text/html": [
              "<table>\n",
              "<caption>A data.frame: 6 × 10</caption>\n",
              "<thead>\n",
              "\t<tr><th></th><th scope=col>V1</th><th scope=col>V2</th><th scope=col>V3</th><th scope=col>V4</th><th scope=col>V5</th><th scope=col>V6</th><th scope=col>V7</th><th scope=col>V8</th><th scope=col>V9</th><th scope=col>date</th></tr>\n",
              "\t<tr><th></th><th scope=col>&lt;int&gt;</th><th scope=col>&lt;int&gt;</th><th scope=col>&lt;int&gt;</th><th scope=col>&lt;dbl&gt;</th><th scope=col>&lt;int&gt;</th><th scope=col>&lt;dbl&gt;</th><th scope=col>&lt;int&gt;</th><th scope=col>&lt;int&gt;</th><th scope=col>&lt;lgl&gt;</th><th scope=col>&lt;chr&gt;</th></tr>\n",
              "</thead>\n",
              "<tbody>\n",
              "\t<tr><th scope=row>1</th><td>2020</td><td>12</td><td>1</td><td>2020.917</td><td>46</td><td>5.8</td><td>20</td><td>25</td><td>NA</td><td>2020/12/1</td></tr>\n",
              "\t<tr><th scope=row>2</th><td>2020</td><td>12</td><td>2</td><td>2020.919</td><td>43</td><td>5.4</td><td>17</td><td>22</td><td>NA</td><td>2020/12/2</td></tr>\n",
              "\t<tr><th scope=row>3</th><td>2020</td><td>12</td><td>3</td><td>2020.922</td><td>39</td><td>2.8</td><td>18</td><td>22</td><td>NA</td><td>2020/12/3</td></tr>\n",
              "\t<tr><th scope=row>4</th><td>2020</td><td>12</td><td>4</td><td>2020.925</td><td>36</td><td>3.7</td><td>23</td><td>28</td><td>NA</td><td>2020/12/4</td></tr>\n",
              "\t<tr><th scope=row>5</th><td>2020</td><td>12</td><td>5</td><td>2020.928</td><td>33</td><td>5.1</td><td>29</td><td>37</td><td>NA</td><td>2020/12/5</td></tr>\n",
              "\t<tr><th scope=row>6</th><td>2020</td><td>12</td><td>6</td><td>2020.930</td><td>23</td><td>1.3</td><td>16</td><td>24</td><td>NA</td><td>2020/12/6</td></tr>\n",
              "</tbody>\n",
              "</table>\n"
            ]
          },
          "metadata": {
            "tags": []
          }
        },
        {
          "output_type": "display_data",
          "data": {
            "text/plain": [
              "  V1   V2 V3 V4       Sunspots V6  V7 V8 V9 date      Dates     \n",
              "1 2020 12 1  2020.917 46       5.8 20 25 NA 2020/12/1 2020-12-01\n",
              "2 2020 12 2  2020.919 43       5.4 17 22 NA 2020/12/2 2020-12-02\n",
              "3 2020 12 3  2020.922 39       2.8 18 22 NA 2020/12/3 2020-12-03\n",
              "4 2020 12 4  2020.925 36       3.7 23 28 NA 2020/12/4 2020-12-04\n",
              "5 2020 12 5  2020.928 33       5.1 29 37 NA 2020/12/5 2020-12-05\n",
              "6 2020 12 6  2020.930 23       1.3 16 24 NA 2020/12/6 2020-12-06"
            ],
            "text/latex": "A data.frame: 6 × 11\n\\begin{tabular}{r|lllllllllll}\n  & V1 & V2 & V3 & V4 & Sunspots & V6 & V7 & V8 & V9 & date & Dates\\\\\n  & <int> & <int> & <int> & <dbl> & <int> & <dbl> & <int> & <int> & <lgl> & <chr> & <date>\\\\\n\\hline\n\t1 & 2020 & 12 & 1 & 2020.917 & 46 & 5.8 & 20 & 25 & NA & 2020/12/1 & 2020-12-01\\\\\n\t2 & 2020 & 12 & 2 & 2020.919 & 43 & 5.4 & 17 & 22 & NA & 2020/12/2 & 2020-12-02\\\\\n\t3 & 2020 & 12 & 3 & 2020.922 & 39 & 2.8 & 18 & 22 & NA & 2020/12/3 & 2020-12-03\\\\\n\t4 & 2020 & 12 & 4 & 2020.925 & 36 & 3.7 & 23 & 28 & NA & 2020/12/4 & 2020-12-04\\\\\n\t5 & 2020 & 12 & 5 & 2020.928 & 33 & 5.1 & 29 & 37 & NA & 2020/12/5 & 2020-12-05\\\\\n\t6 & 2020 & 12 & 6 & 2020.930 & 23 & 1.3 & 16 & 24 & NA & 2020/12/6 & 2020-12-06\\\\\n\\end{tabular}\n",
            "text/markdown": "\nA data.frame: 6 × 11\n\n| <!--/--> | V1 &lt;int&gt; | V2 &lt;int&gt; | V3 &lt;int&gt; | V4 &lt;dbl&gt; | Sunspots &lt;int&gt; | V6 &lt;dbl&gt; | V7 &lt;int&gt; | V8 &lt;int&gt; | V9 &lt;lgl&gt; | date &lt;chr&gt; | Dates &lt;date&gt; |\n|---|---|---|---|---|---|---|---|---|---|---|---|\n| 1 | 2020 | 12 | 1 | 2020.917 | 46 | 5.8 | 20 | 25 | NA | 2020/12/1 | 2020-12-01 |\n| 2 | 2020 | 12 | 2 | 2020.919 | 43 | 5.4 | 17 | 22 | NA | 2020/12/2 | 2020-12-02 |\n| 3 | 2020 | 12 | 3 | 2020.922 | 39 | 2.8 | 18 | 22 | NA | 2020/12/3 | 2020-12-03 |\n| 4 | 2020 | 12 | 4 | 2020.925 | 36 | 3.7 | 23 | 28 | NA | 2020/12/4 | 2020-12-04 |\n| 5 | 2020 | 12 | 5 | 2020.928 | 33 | 5.1 | 29 | 37 | NA | 2020/12/5 | 2020-12-05 |\n| 6 | 2020 | 12 | 6 | 2020.930 | 23 | 1.3 | 16 | 24 | NA | 2020/12/6 | 2020-12-06 |\n\n",
            "text/html": [
              "<table>\n",
              "<caption>A data.frame: 6 × 11</caption>\n",
              "<thead>\n",
              "\t<tr><th></th><th scope=col>V1</th><th scope=col>V2</th><th scope=col>V3</th><th scope=col>V4</th><th scope=col>Sunspots</th><th scope=col>V6</th><th scope=col>V7</th><th scope=col>V8</th><th scope=col>V9</th><th scope=col>date</th><th scope=col>Dates</th></tr>\n",
              "\t<tr><th></th><th scope=col>&lt;int&gt;</th><th scope=col>&lt;int&gt;</th><th scope=col>&lt;int&gt;</th><th scope=col>&lt;dbl&gt;</th><th scope=col>&lt;int&gt;</th><th scope=col>&lt;dbl&gt;</th><th scope=col>&lt;int&gt;</th><th scope=col>&lt;int&gt;</th><th scope=col>&lt;lgl&gt;</th><th scope=col>&lt;chr&gt;</th><th scope=col>&lt;date&gt;</th></tr>\n",
              "</thead>\n",
              "<tbody>\n",
              "\t<tr><th scope=row>1</th><td>2020</td><td>12</td><td>1</td><td>2020.917</td><td>46</td><td>5.8</td><td>20</td><td>25</td><td>NA</td><td>2020/12/1</td><td>2020-12-01</td></tr>\n",
              "\t<tr><th scope=row>2</th><td>2020</td><td>12</td><td>2</td><td>2020.919</td><td>43</td><td>5.4</td><td>17</td><td>22</td><td>NA</td><td>2020/12/2</td><td>2020-12-02</td></tr>\n",
              "\t<tr><th scope=row>3</th><td>2020</td><td>12</td><td>3</td><td>2020.922</td><td>39</td><td>2.8</td><td>18</td><td>22</td><td>NA</td><td>2020/12/3</td><td>2020-12-03</td></tr>\n",
              "\t<tr><th scope=row>4</th><td>2020</td><td>12</td><td>4</td><td>2020.925</td><td>36</td><td>3.7</td><td>23</td><td>28</td><td>NA</td><td>2020/12/4</td><td>2020-12-04</td></tr>\n",
              "\t<tr><th scope=row>5</th><td>2020</td><td>12</td><td>5</td><td>2020.928</td><td>33</td><td>5.1</td><td>29</td><td>37</td><td>NA</td><td>2020/12/5</td><td>2020-12-05</td></tr>\n",
              "\t<tr><th scope=row>6</th><td>2020</td><td>12</td><td>6</td><td>2020.930</td><td>23</td><td>1.3</td><td>16</td><td>24</td><td>NA</td><td>2020/12/6</td><td>2020-12-06</td></tr>\n",
              "</tbody>\n",
              "</table>\n"
            ]
          },
          "metadata": {
            "tags": []
          }
        },
        {
          "output_type": "display_data",
          "data": {
            "text/plain": [
              "        Daily_cases Dates     \n",
              "1/22/20  555        2020-01-22\n",
              "1/23/20  654        2020-01-23\n",
              "1/24/20  941        2020-01-24\n",
              "1/25/20 1434        2020-01-25\n",
              "1/26/20 2118        2020-01-26\n",
              "1/27/20 2927        2020-01-27"
            ],
            "text/latex": "A data.frame: 6 × 2\n\\begin{tabular}{r|ll}\n  & Daily\\_cases & Dates\\\\\n  & <dbl> & <date>\\\\\n\\hline\n\t1/22/20 &  555 & 2020-01-22\\\\\n\t1/23/20 &  654 & 2020-01-23\\\\\n\t1/24/20 &  941 & 2020-01-24\\\\\n\t1/25/20 & 1434 & 2020-01-25\\\\\n\t1/26/20 & 2118 & 2020-01-26\\\\\n\t1/27/20 & 2927 & 2020-01-27\\\\\n\\end{tabular}\n",
            "text/markdown": "\nA data.frame: 6 × 2\n\n| <!--/--> | Daily_cases &lt;dbl&gt; | Dates &lt;date&gt; |\n|---|---|---|\n| 1/22/20 |  555 | 2020-01-22 |\n| 1/23/20 |  654 | 2020-01-23 |\n| 1/24/20 |  941 | 2020-01-24 |\n| 1/25/20 | 1434 | 2020-01-25 |\n| 1/26/20 | 2118 | 2020-01-26 |\n| 1/27/20 | 2927 | 2020-01-27 |\n\n",
            "text/html": [
              "<table>\n",
              "<caption>A data.frame: 6 × 2</caption>\n",
              "<thead>\n",
              "\t<tr><th></th><th scope=col>Daily_cases</th><th scope=col>Dates</th></tr>\n",
              "\t<tr><th></th><th scope=col>&lt;dbl&gt;</th><th scope=col>&lt;date&gt;</th></tr>\n",
              "</thead>\n",
              "<tbody>\n",
              "\t<tr><th scope=row>1/22/20</th><td> 555</td><td>2020-01-22</td></tr>\n",
              "\t<tr><th scope=row>1/23/20</th><td> 654</td><td>2020-01-23</td></tr>\n",
              "\t<tr><th scope=row>1/24/20</th><td> 941</td><td>2020-01-24</td></tr>\n",
              "\t<tr><th scope=row>1/25/20</th><td>1434</td><td>2020-01-25</td></tr>\n",
              "\t<tr><th scope=row>1/26/20</th><td>2118</td><td>2020-01-26</td></tr>\n",
              "\t<tr><th scope=row>1/27/20</th><td>2927</td><td>2020-01-27</td></tr>\n",
              "</tbody>\n",
              "</table>\n"
            ]
          },
          "metadata": {
            "tags": []
          }
        }
      ]
    },
    {
      "cell_type": "code",
      "metadata": {
        "colab": {
          "base_uri": "https://localhost:8080/",
          "height": 682
        },
        "id": "87ExdXokJeSt",
        "outputId": "45745c9f-0ceb-437d-f1b8-314f3b26c48e"
      },
      "source": [
        "sunspots_and_cases <- left_join(sunspots, g_cummulative2)\r\n",
        "\r\n",
        "head(sunspots_and_cases)\r\n",
        "\r\n",
        "ggplot(data=sunspots_and_cases, aes(x=Sunspots, y=Daily_cases)) +\r\n",
        "geom_point() +\r\n",
        "labs(x=\"Number of Sunspots\", y=\"Daily Cases\", title=\"Relationship between Sunspot Number and Covid-19 Global Cases\", subtitle=\"Graph by Maxyn Hallare\")"
      ],
      "execution_count": null,
      "outputs": [
        {
          "output_type": "stream",
          "text": [
            "Joining, by = \"Dates\"\n",
            "\n"
          ],
          "name": "stderr"
        },
        {
          "output_type": "display_data",
          "data": {
            "text/plain": [
              "  V1   V2 V3 V4       Sunspots V6  V7 V8 V9 date      Dates      Daily_cases\n",
              "1 2020 12 1  2020.917 46       5.8 20 25 NA 2020/12/1 2020-12-01 63947958   \n",
              "2 2020 12 2  2020.919 43       5.4 17 22 NA 2020/12/2 2020-12-02 64596103   \n",
              "3 2020 12 3  2020.922 39       2.8 18 22 NA 2020/12/3 2020-12-03 65288306   \n",
              "4 2020 12 4  2020.925 36       3.7 23 28 NA 2020/12/4 2020-12-04 65968507   \n",
              "5 2020 12 5  2020.928 33       5.1 29 37 NA 2020/12/5 2020-12-05 66610808   \n",
              "6 2020 12 6  2020.930 23       1.3 16 24 NA 2020/12/6 2020-12-06 67149510   "
            ],
            "text/latex": "A data.frame: 6 × 12\n\\begin{tabular}{r|llllllllllll}\n  & V1 & V2 & V3 & V4 & Sunspots & V6 & V7 & V8 & V9 & date & Dates & Daily\\_cases\\\\\n  & <int> & <int> & <int> & <dbl> & <int> & <dbl> & <int> & <int> & <lgl> & <chr> & <date> & <dbl>\\\\\n\\hline\n\t1 & 2020 & 12 & 1 & 2020.917 & 46 & 5.8 & 20 & 25 & NA & 2020/12/1 & 2020-12-01 & 63947958\\\\\n\t2 & 2020 & 12 & 2 & 2020.919 & 43 & 5.4 & 17 & 22 & NA & 2020/12/2 & 2020-12-02 & 64596103\\\\\n\t3 & 2020 & 12 & 3 & 2020.922 & 39 & 2.8 & 18 & 22 & NA & 2020/12/3 & 2020-12-03 & 65288306\\\\\n\t4 & 2020 & 12 & 4 & 2020.925 & 36 & 3.7 & 23 & 28 & NA & 2020/12/4 & 2020-12-04 & 65968507\\\\\n\t5 & 2020 & 12 & 5 & 2020.928 & 33 & 5.1 & 29 & 37 & NA & 2020/12/5 & 2020-12-05 & 66610808\\\\\n\t6 & 2020 & 12 & 6 & 2020.930 & 23 & 1.3 & 16 & 24 & NA & 2020/12/6 & 2020-12-06 & 67149510\\\\\n\\end{tabular}\n",
            "text/markdown": "\nA data.frame: 6 × 12\n\n| <!--/--> | V1 &lt;int&gt; | V2 &lt;int&gt; | V3 &lt;int&gt; | V4 &lt;dbl&gt; | Sunspots &lt;int&gt; | V6 &lt;dbl&gt; | V7 &lt;int&gt; | V8 &lt;int&gt; | V9 &lt;lgl&gt; | date &lt;chr&gt; | Dates &lt;date&gt; | Daily_cases &lt;dbl&gt; |\n|---|---|---|---|---|---|---|---|---|---|---|---|---|\n| 1 | 2020 | 12 | 1 | 2020.917 | 46 | 5.8 | 20 | 25 | NA | 2020/12/1 | 2020-12-01 | 63947958 |\n| 2 | 2020 | 12 | 2 | 2020.919 | 43 | 5.4 | 17 | 22 | NA | 2020/12/2 | 2020-12-02 | 64596103 |\n| 3 | 2020 | 12 | 3 | 2020.922 | 39 | 2.8 | 18 | 22 | NA | 2020/12/3 | 2020-12-03 | 65288306 |\n| 4 | 2020 | 12 | 4 | 2020.925 | 36 | 3.7 | 23 | 28 | NA | 2020/12/4 | 2020-12-04 | 65968507 |\n| 5 | 2020 | 12 | 5 | 2020.928 | 33 | 5.1 | 29 | 37 | NA | 2020/12/5 | 2020-12-05 | 66610808 |\n| 6 | 2020 | 12 | 6 | 2020.930 | 23 | 1.3 | 16 | 24 | NA | 2020/12/6 | 2020-12-06 | 67149510 |\n\n",
            "text/html": [
              "<table>\n",
              "<caption>A data.frame: 6 × 12</caption>\n",
              "<thead>\n",
              "\t<tr><th></th><th scope=col>V1</th><th scope=col>V2</th><th scope=col>V3</th><th scope=col>V4</th><th scope=col>Sunspots</th><th scope=col>V6</th><th scope=col>V7</th><th scope=col>V8</th><th scope=col>V9</th><th scope=col>date</th><th scope=col>Dates</th><th scope=col>Daily_cases</th></tr>\n",
              "\t<tr><th></th><th scope=col>&lt;int&gt;</th><th scope=col>&lt;int&gt;</th><th scope=col>&lt;int&gt;</th><th scope=col>&lt;dbl&gt;</th><th scope=col>&lt;int&gt;</th><th scope=col>&lt;dbl&gt;</th><th scope=col>&lt;int&gt;</th><th scope=col>&lt;int&gt;</th><th scope=col>&lt;lgl&gt;</th><th scope=col>&lt;chr&gt;</th><th scope=col>&lt;date&gt;</th><th scope=col>&lt;dbl&gt;</th></tr>\n",
              "</thead>\n",
              "<tbody>\n",
              "\t<tr><th scope=row>1</th><td>2020</td><td>12</td><td>1</td><td>2020.917</td><td>46</td><td>5.8</td><td>20</td><td>25</td><td>NA</td><td>2020/12/1</td><td>2020-12-01</td><td>63947958</td></tr>\n",
              "\t<tr><th scope=row>2</th><td>2020</td><td>12</td><td>2</td><td>2020.919</td><td>43</td><td>5.4</td><td>17</td><td>22</td><td>NA</td><td>2020/12/2</td><td>2020-12-02</td><td>64596103</td></tr>\n",
              "\t<tr><th scope=row>3</th><td>2020</td><td>12</td><td>3</td><td>2020.922</td><td>39</td><td>2.8</td><td>18</td><td>22</td><td>NA</td><td>2020/12/3</td><td>2020-12-03</td><td>65288306</td></tr>\n",
              "\t<tr><th scope=row>4</th><td>2020</td><td>12</td><td>4</td><td>2020.925</td><td>36</td><td>3.7</td><td>23</td><td>28</td><td>NA</td><td>2020/12/4</td><td>2020-12-04</td><td>65968507</td></tr>\n",
              "\t<tr><th scope=row>5</th><td>2020</td><td>12</td><td>5</td><td>2020.928</td><td>33</td><td>5.1</td><td>29</td><td>37</td><td>NA</td><td>2020/12/5</td><td>2020-12-05</td><td>66610808</td></tr>\n",
              "\t<tr><th scope=row>6</th><td>2020</td><td>12</td><td>6</td><td>2020.930</td><td>23</td><td>1.3</td><td>16</td><td>24</td><td>NA</td><td>2020/12/6</td><td>2020-12-06</td><td>67149510</td></tr>\n",
              "</tbody>\n",
              "</table>\n"
            ]
          },
          "metadata": {
            "tags": []
          }
        },
        {
          "output_type": "stream",
          "text": [
            "Warning message:\n",
            "“Removed 1 rows containing missing values (geom_point).”\n"
          ],
          "name": "stderr"
        },
        {
          "output_type": "display_data",
          "data": {
            "image/png": "[encoded data removed]",
            "text/plain": [
              "plot without title"
            ]
          },
          "metadata": {
            "tags": [],
            "image/png": {
              "width": 420,
              "height": 420
            }
          }
        }
      ]
    }
  ]
}